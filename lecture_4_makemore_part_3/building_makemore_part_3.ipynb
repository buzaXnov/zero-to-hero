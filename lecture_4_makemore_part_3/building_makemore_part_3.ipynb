{
 "cells": [
  {
   "cell_type": "markdown",
   "metadata": {},
   "source": [
    "## RNN implementations\n",
    "\n",
    "Today we will implement a RNN model and its variations, but firstly, we need to finish building an MLP as we need to understand the history of developemtn of these models. "
   ]
  },
  {
   "cell_type": "code",
   "execution_count": 56,
   "metadata": {},
   "outputs": [],
   "source": [
    "import torch\n",
    "import torch.nn.functional as F\n",
    "import matplotlib.pyplot as plt\n",
    "\n",
    "%matplotlib inline"
   ]
  },
  {
   "cell_type": "code",
   "execution_count": 57,
   "metadata": {},
   "outputs": [
    {
     "data": {
      "text/plain": [
       "32033"
      ]
     },
     "execution_count": 57,
     "metadata": {},
     "output_type": "execute_result"
    }
   ],
   "source": [
    "with open(\"names.txt\", \"r\") as file:\n",
    "    words = file.read().splitlines()\n",
    "\n",
    "len(words)"
   ]
  },
  {
   "cell_type": "code",
   "execution_count": 58,
   "metadata": {},
   "outputs": [
    {
     "name": "stdout",
     "output_type": "stream",
     "text": [
      "Vocabulary size: 27\n"
     ]
    }
   ],
   "source": [
    "chars = sorted(list(set(\"\".join(words))))\n",
    "stoi = {s: i+1 for i, s in enumerate(chars)}\n",
    "stoi[\".\"] = 0\n",
    "itos = {i: s for s, i in stoi.items()}\n",
    "vocab_size = len(itos)\n",
    "print(f\"Vocabulary size: {vocab_size}\")"
   ]
  },
  {
   "cell_type": "code",
   "execution_count": 59,
   "metadata": {},
   "outputs": [
    {
     "name": "stdout",
     "output_type": "stream",
     "text": [
      "torch.Size([182625, 3]) torch.Size([182625])\n",
      "torch.Size([22655, 3]) torch.Size([22655])\n",
      "torch.Size([22866, 3]) torch.Size([22866])\n"
     ]
    }
   ],
   "source": [
    "block_size = 3  # context length: how many characters do we take to predict the next one\n",
    "\n",
    "def build_dataset(words):\n",
    "\n",
    "    X, Y = [], []\n",
    "    for w in words:\n",
    "\n",
    "        context = [0] * block_size\n",
    "        for ch in w + \".\":\n",
    "            ix = stoi[ch]\n",
    "            X.append(context)\n",
    "            Y.append(ix)\n",
    "            context = context[1:] + [ix]    # crop and append\n",
    "\n",
    "    # basically we have a rolling window for context\n",
    "    X = torch.tensor(X)\n",
    "    Y = torch.tensor(Y)\n",
    "    print(X.shape, Y.shape)\n",
    "    return X, Y\n",
    "\n",
    "import random\n",
    "random.seed(42)\n",
    "random.shuffle(words)\n",
    "n1 = int(0.8*len(words))\n",
    "n2 = int(0.9*len(words))\n",
    "\n",
    "Xtr, Ytr = build_dataset(words[:n1])\n",
    "Xdev, Ydev = build_dataset(words[n1:n2])\n",
    "Xte, Yte = build_dataset(words[n2:])"
   ]
  },
  {
   "cell_type": "code",
   "execution_count": 109,
   "metadata": {},
   "outputs": [
    {
     "name": "stdout",
     "output_type": "stream",
     "text": [
      "Total num of elements: 12297\n"
     ]
    }
   ],
   "source": [
    "n_embd = 10     # the dimensionality of the character embedding vectors\n",
    "n_hidden = 200  # the number of neurons in the hidden layer of the MLP\n",
    "\n",
    "g = torch.Generator().manual_seed(2147483647)\n",
    "C = torch.randn((vocab_size, n_embd),            generator=g)\n",
    "W1 = torch.randn((block_size*n_embd, n_hidden),  generator=g) * (5/3) / (n_embd * vocab_size)    # * 0.1\n",
    "b1 = torch.randn(n_hidden,                       generator=g) * 0.01\n",
    "W2 = torch.randn((n_hidden, vocab_size),         generator=g) * 0.01                             # you do not want to set them to 0 \n",
    "b2 = torch.randn(vocab_size,                     generator=g) * 0.0                              # you want to set the bias to 0 as you want the initial loss to be lower as well as the logits (no extreme values)\n",
    "\n",
    "bn_gain = torch.ones((1, n_hidden))\n",
    "bn_bias = torch.zeros((1, n_hidden))\n",
    "bn_mean_running = torch.zeros((1, n_hidden))    # not part of gradient based optimization\n",
    "bn_std_running = torch.ones((1, n_hidden))      # they are updated on the side of training\n",
    "\n",
    "parameters = [C, W1, b1, W2, b2, bn_gain, bn_bias]\n",
    "\n",
    "print(f\"Total num of elements: {sum(p.nelement() for p in parameters)}\")\n",
    "\n",
    "for p in parameters:\n",
    "    p.requires_grad = True"
   ]
  },
  {
   "cell_type": "code",
   "execution_count": 90,
   "metadata": {},
   "outputs": [
    {
     "data": {
      "text/plain": [
       "0.0205761316872428"
      ]
     },
     "execution_count": 90,
     "metadata": {},
     "output_type": "execute_result"
    }
   ],
   "source": [
    "# NOTE: Kaiming initialization for our data: fan-in is for our model is the vocab_size (since each character is 10-dimensonal) and we have 3 (block_size) of them.\n",
    "# for tanh the gain is 5/3 (check torch.nn.init docs)\n",
    "(5/3) / (block_size * vocab_size)"
   ]
  },
  {
   "cell_type": "markdown",
   "metadata": {},
   "source": [
    "This is what we want our std dev to be upon initialization for our case: 0.0205761316872428"
   ]
  },
  {
   "cell_type": "code",
   "execution_count": 91,
   "metadata": {},
   "outputs": [
    {
     "name": "stdout",
     "output_type": "stream",
     "text": [
      "tensor(-0.0005) tensor(1.0075)\n",
      "tensor(0.0146) tensor(10.0957)\n"
     ]
    },
    {
     "data": {
      "image/png": "[encoded data removed]",
      "text/plain": [
       "<Figure size 2000x500 with 2 Axes>"
      ]
     },
     "metadata": {},
     "output_type": "display_data"
    }
   ],
   "source": [
    "x = torch.randn(1000, 10)\n",
    "w = torch.randn(10, 200) * 10**0.5\n",
    "y = x @ w\n",
    "print(x.mean(), x.std())\n",
    "print(y.mean(), y.std())\n",
    "plt.figure(figsize=(20, 5))\n",
    "plt.subplot(121)\n",
    "plt.hist(x.view(-1).tolist(), bins=50, density=True);\n",
    "plt.subplot(122)\n",
    "plt.hist(y.view(-1).tolist(), bins=50, density=True);"
   ]
  },
  {
   "cell_type": "markdown",
   "metadata": {},
   "source": [
    "We can see that the Gaussian distribution is expanding after multiplication. We want our neural network to have similar activations throughout the neural net. \n",
    "\n",
    "How do we preserve this distribution to remain a Gaussian. by scaling the initial vector. Now how do we determine that factor?\n",
    "\n",
    "Mathematically, the correct answer is that we need to divide it be the square root of fan in(?). \n",
    "\n",
    "In our case:\n",
    "\n",
    "`w = torch.randn(100, 200) * 10**0.5` \n",
    "\n",
    "which would be the number of rows or the first element? \n",
    "\n",
    "Kaiming initialization: https://www.geeksforgeeks.org/kaiming-initialization-in-deep-learning/\n",
    "\n",
    "After multiplying by square root of 10 (fan-in) we see that the standard deviation of the product does not change. \n"
   ]
  },
  {
   "cell_type": "markdown",
   "metadata": {},
   "source": [
    "#### In practice, \n",
    "use Kaiming init, optimizer and different normalizations tend to minimize the effect of inefficient weight initialization, but if Andrej does it, so will I. \n",
    "\n",
    "Just check the standard deviation of weights once it is initialized. "
   ]
  },
  {
   "cell_type": "code",
   "execution_count": 84,
   "metadata": {},
   "outputs": [
    {
     "data": {
      "text/plain": [
       "tensor(0.9843, grad_fn=<StdBackward0>)"
      ]
     },
     "execution_count": 84,
     "metadata": {},
     "output_type": "execute_result"
    }
   ],
   "source": [
    "hpreact.shape\n",
    "hpreact.mean(dim=0, keepdim=True).shape # we need to have [1, 200] (1, n_hidden) as the neurons needs to be standardized\n",
    "hpreact.std()\n",
    "\n",
    "# ((hpreact - hpreact.mean(dim=0, keepdim=True)) / hpreact.var(dim=0, keepdim=True)**0.5).std()\n",
    "((hpreact - hpreact.mean(dim=0, keepdim=True)) / hpreact.std(dim=0, keepdim=True)).std()"
   ]
  },
  {
   "cell_type": "code",
   "execution_count": 110,
   "metadata": {},
   "outputs": [
    {
     "name": "stdout",
     "output_type": "stream",
     "text": [
      "      0/ 200000: 3.3147\n",
      "  10000/ 200000: 2.1548\n",
      "  20000/ 200000: 2.3538\n",
      "  30000/ 200000: 2.4579\n",
      "  40000/ 200000: 1.9638\n",
      "  50000/ 200000: 2.3485\n",
      "  60000/ 200000: 2.3773\n",
      "  70000/ 200000: 2.0938\n",
      "  80000/ 200000: 2.3783\n",
      "  90000/ 200000: 2.0914\n",
      " 100000/ 200000: 1.9441\n",
      " 110000/ 200000: 2.3359\n",
      " 120000/ 200000: 1.9952\n",
      " 130000/ 200000: 2.3980\n",
      " 140000/ 200000: 2.4415\n",
      " 150000/ 200000: 2.2077\n",
      " 160000/ 200000: 1.9341\n",
      " 170000/ 200000: 1.7835\n",
      " 180000/ 200000: 2.0025\n",
      " 190000/ 200000: 1.9805\n"
     ]
    }
   ],
   "source": [
    "n_epochs = 200000\n",
    "batch_size = 32\n",
    "lossi = []\n",
    "stepi = []\n",
    "\n",
    "for i in range(n_epochs):\n",
    "    # minibatch construct\n",
    "    ix = torch.randint(0, Xtr.shape[0], (batch_size,), generator=g)\n",
    "    Xbatch, Ybatch = Xtr[ix], Ytr[ix]\n",
    "\n",
    "    # forward pass\n",
    "    emb = C[Xbatch]\n",
    "    hpreact = emb.view(-1, 30) @ W1 + b1    # h pre activation; we do not want them to be too small as tanh will not do anything or too large as tanh will get over-saturated\n",
    "    # hpreact_norm = bn_gain * (hpreact - hpreact.mean(dim=0, keepdim=True)) / hpreact.std(dim=0, keepdim=True) + bn_bias     # NOTE: this is our batchnorm layer\n",
    "    bnmeani = hpreact.mean(dim=0, keepdim=True)\n",
    "    bnstdi = hpreact.std(dim=0, keepdim=True)\n",
    "    \n",
    "    hpreact_norm = bn_gain * (hpreact - bnmeani) / bnstdi + bn_bias\n",
    "    \n",
    "    # this is how the batch norm layer is implemented in pytorch\n",
    "    with torch.no_grad():\n",
    "        # NOTE: they both receive updates in the direction of the what the current mean/std is\n",
    "        # it is not optimized using gradient descent, but janky update\n",
    "        bn_mean_running = 0.999 * bn_mean_running + 0.001 * bnmeani\n",
    "        bn_std_running = 0.999 * bn_std_running + 0.001 * bnstdi\n",
    "\n",
    "    h = torch.tanh(hpreact_norm)\n",
    "    logits = h @ W2 + b2\n",
    "    loss = F.cross_entropy(\n",
    "        logits, target=Ybatch\n",
    "    )  # it can be more numerically well behaved (numerically stable)\n",
    "\n",
    "    # backward pass\n",
    "    for p in parameters:\n",
    "        p.grad = None\n",
    "    loss.backward()\n",
    "\n",
    "    # lr = lrs[i]\n",
    "    # parameter update\n",
    "    lr = 0.1 if i < 100000 else 0.01\n",
    "\n",
    "    for p in parameters:\n",
    "        p.data += -lr * p.grad\n",
    "\n",
    "    # track stats\n",
    "    if i % 10000 == 0:\n",
    "        print(f\"{i:7d}/{n_epochs:7d}: {loss.item():.4f}\")\n",
    "        \n",
    "    lossi.append(loss.log10().item())\n",
    "    stepi.append(i)\n",
    "    \n",
    "    # break"
   ]
  },
  {
   "cell_type": "code",
   "execution_count": 51,
   "metadata": {},
   "outputs": [
    {
     "data": {
      "image/png": "[encoded data removed]",
      "text/plain": [
       "<Figure size 2000x1000 with 1 Axes>"
      ]
     },
     "metadata": {},
     "output_type": "display_data"
    }
   ],
   "source": [
    "plt.figure(figsize=(20, 10))\n",
    "plt.imshow(h.abs() > 0.99, cmap=\"gray\", interpolation=\"nearest\");\n",
    "\n",
    "# if there is a white column, that is called a dead neuron as the gradients vanish; as we initialize the biases to be zero or close to zero and weights to be \n",
    "# a bit higher (factor of 10), we dont have any dead neurons or dead gradients"
   ]
  },
  {
   "cell_type": "code",
   "execution_count": 52,
   "metadata": {},
   "outputs": [
    {
     "data": {
      "image/png": "[encoded data removed]",
      "text/plain": [
       "<Figure size 640x480 with 1 Axes>"
      ]
     },
     "metadata": {},
     "output_type": "display_data"
    }
   ],
   "source": [
    "plt.hist(h.view(-1).tolist(), bins=50);\n",
    "\n",
    "# and we can see that the activation values are more uniformly distributed between -1 and 1 around 0"
   ]
  },
  {
   "cell_type": "markdown",
   "metadata": {},
   "source": [
    "We can see the distribution of values after tanh activation. "
   ]
  },
  {
   "cell_type": "code",
   "execution_count": 54,
   "metadata": {},
   "outputs": [
    {
     "data": {
      "image/png": "[encoded data removed]",
      "text/plain": [
       "<Figure size 640x480 with 1 Axes>"
      ]
     },
     "metadata": {},
     "output_type": "display_data"
    }
   ],
   "source": [
    "plt.plot(lossi);"
   ]
  },
  {
   "cell_type": "markdown",
   "metadata": {},
   "source": [
    "## Setting the batch norm for inference\n",
    "\n",
    "Since it is learning on every batch, we need to calibrate the batch norm at the end of the training to pass through all of the train examples to set the batch norm parameters (batch weights and bias)."
   ]
  },
  {
   "cell_type": "code",
   "execution_count": 105,
   "metadata": {},
   "outputs": [
    {
     "data": {
      "text/plain": [
       "(torch.Size([27, 10]), torch.Size([182625, 3]), torch.Size([32, 3, 10]))"
      ]
     },
     "execution_count": 105,
     "metadata": {},
     "output_type": "execute_result"
    }
   ],
   "source": [
    "C.shape, Xtr.shape, emb.shape"
   ]
  },
  {
   "cell_type": "code",
   "execution_count": 106,
   "metadata": {},
   "outputs": [],
   "source": [
    "# calibrate the batch norm at the END of the training\n",
    "\n",
    "with torch.no_grad():\n",
    "    # pass the training set through\n",
    "    emb = C[Xtr]\n",
    "    embcat = emb.view(emb.shape[0], -1)     # (N, block_size * n_embed)\n",
    "    hpreact = embcat @ W1 + b1              # (N, n_hidden)\n",
    "    # mesaure the mean/std over the ENTIRE training set\n",
    "    bnmean = hpreact.mean(dim=0, keepdim=True)\n",
    "    bnstd = hpreact.std(dim=0, keepdim=True)\n"
   ]
  },
  {
   "cell_type": "markdown",
   "metadata": {},
   "source": [
    "Since no one wants to do this after training (second stage of traingin basically) the paper introduces that while training we calculate them during training so we have a single stage of training. "
   ]
  },
  {
   "cell_type": "code",
   "execution_count": 111,
   "metadata": {},
   "outputs": [
    {
     "name": "stdout",
     "output_type": "stream",
     "text": [
      "train 2.059842824935913\n",
      "val 2.106222152709961\n"
     ]
    }
   ],
   "source": [
    "@torch.no_grad\n",
    "def split_loss(split):\n",
    "    X, Y = {\n",
    "        \"train\" : (Xtr, Ytr),\n",
    "        \"val\"   : (Xdev, Ydev),\n",
    "        \"test\"  : (Xte, Yte)\n",
    "    }[split]\n",
    "\n",
    "    emb = C[X]                              # (N, block_size, n_embed)\n",
    "    embcat = emb.view(emb.shape[0], -1)     # concat into (N, block_size * n_embed)\n",
    "    hpreact = embcat @ W1 + b1\n",
    "    # hpreact_norm = bn_gain * (hpreact - hpreact.mean(dim=0, keepdim=True)) / hpreact.std(dim=0, keepdim=True) + bn_bias\n",
    "    # NOTE: instead of calculating these dynamically, we are going to fix bnmean and bnstd from the training set and use them for INFERENCE\n",
    "    hpreact_norm = bn_gain * (hpreact - bn_mean_running) / bn_std_running + bn_bias\n",
    "    h = torch.tanh(hpreact_norm)        # (N, n_hidden)\n",
    "    logits = h @ W2 + b2                    # (N, vocab_size)\n",
    "    loss = F.cross_entropy(logits, target=Y)\n",
    "    print(split, loss.item())\n",
    "\n",
    "split_loss(\"train\")\n",
    "split_loss(\"val\")  "
   ]
  },
  {
   "cell_type": "markdown",
   "metadata": {},
   "source": [
    "These results are the results with correct initialization (no Kaiming init). \n",
    "\n",
    "```\n",
    "train 2.0579607486724854\n",
    "val 2.1137914657592773\n",
    "```\n",
    "\n",
    "The results are more or less the same, with differneces due to the randomness of the training process, but we didnt have to look at histograms of the data to get some arbitrary numbers\n",
    "but we got a mathematically correct number perfect for our model. \n",
    "\n",
    "The results:\n",
    "```\n",
    "train 2.1064743995666504\n",
    "val 2.1390953063964844\n",
    "```\n",
    "\n",
    "Adding batch norm layer (also after fixing the bnmean and bnstd vals over train set we get basically identical values):\n",
    "```\n",
    "train 2.059947967529297\n",
    "val 2.1058571338653564\n",
    "```\n",
    "\n",
    "Since our initialization was better, the training time could be spent better learning more useful stuff instead of simple stuff that could be solved by correct initialization. \n",
    "\n",
    "Our model was shallow, so stuff like these are forgiving. These problems stack up and you incur a debt. The more complex a model is, the less forgiving these types of problems are. \n",
    "\n",
    "Correct initialization and stuff like the gradient problems in tanh are more visible in bigger more complex systems. "
   ]
  },
  {
   "cell_type": "code",
   "execution_count": 39,
   "metadata": {},
   "outputs": [
    {
     "name": "stdout",
     "output_type": "stream",
     "text": [
      "mora.\n",
      "mayah.\n",
      "seel.\n",
      "ndyn.\n",
      "alee.\n",
      "thrithadrie.\n",
      "cadelyn.\n",
      "elin.\n",
      "shi.\n",
      "jen.\n"
     ]
    }
   ],
   "source": [
    "# sample from the model\n",
    "g = torch.Generator().manual_seed(2147483647 + 10)\n",
    "\n",
    "for _ in range(10):\n",
    "    \n",
    "    out = []\n",
    "    context = [0] * block_size\n",
    "\n",
    "    while True:\n",
    "\n",
    "        # forward pass/inference\n",
    "        emb = C[torch.tensor(context)]      # (1, block_size * n_embed)\n",
    "        embcat = emb.view(1, -1)           # concat into (block_size, n_embed)\n",
    "        h = torch.tanh(embcat @ W1 + b1)    # (1, n_hidden)\n",
    "        logits = h @ W2 + b2\n",
    "        probs = torch.softmax(logits, dim=1)\n",
    "\n",
    "        # sample from the distribution\n",
    "        ix = torch.multinomial(probs, num_samples=1, replacement=True, generator=g).item()\n",
    "        # shift the context window and track the samples\n",
    "        context = context[1:] + [ix]\n",
    "        out.append(ix)\n",
    "\n",
    "        if ix == 0:\n",
    "            break\n",
    "\n",
    "    print(\"\".join(itos[i] for i in out))"
   ]
  },
  {
   "cell_type": "markdown",
   "metadata": {},
   "source": [
    "## Batch normalization\n",
    "\n",
    "h pre activation; we do not want them to be too small as tanh will not do anything or too large as tanh will get over-saturated.\n",
    "\n",
    "We want them to be roughly **Gaussian with std 1.0 at least at initialization.**\n",
    "\n",
    "The approach/insight from the Google 2015 paper that introduced batch norm: there are these hidden states that you want to be roughly Gaussian so why not take these hidden states and normalize them to be Gaussian. This can be done as standardizing hidden states to be Gaussian is a perfectly differentiazble operation. \n",
    "\n",
    "This will make sure that every single neuron and its firing rate will be exactly unit Gaussian **on these 32 examples of this batch.** \n",
    "\n",
    "The problem is we will not get any better results as we want these to be **roughly gaussian but only at initializataion.**\n",
    "\n",
    "We DO NOT WANT THESE to be forced to be Gaussian ALWAYS. We would like to have the neural net to move this around, make neurons more \"trigger-happy\" or less. We would like this distribution to move around and to have backprop tell us how it moves. \n",
    "\n",
    "We have to introduced scale and shift. gain is ones and shift is zeros. It will be unigausasian for every neron. Those 2 params are changed and the network learns them. They are trained with backprop.  (normalize and scale)"
   ]
  },
  {
   "cell_type": "markdown",
   "metadata": {},
   "source": [
    "We cannot expect to big of a differnece in results as the neural network is simple and shallow (we have one hidden layer). But once we have a deeper neural net with different types of operations like for example residual connections. It becomes difficult to tune the scales of the weight matrices so that all activations are roughly gaussian. \n",
    "\n",
    "We just sprinkle batch norm in the neural net. \n",
    "\n",
    "It is customary to append a batch norm layer after linear and convolutional layers to control the scale of the activation at every point in the neural net. After this, we do not need to care about the mathematics when initializating. \n",
    "\n",
    "## Cost of Batch Norm\n",
    "\n",
    "But this stability comes at a terrible cost. It is adding new parameters to learn for every single layer we insert. \n",
    "\n",
    "h jitters with every single example that passes through. It sounds like a bug, but it acts as a regulirazer. It is introducing a little bit of entropy. Augmenting th einput a little it, makes it harder for the network to overfit on these examples. People tried to remove the use of batch norm with layer norm, instance norm, group norm etc. \n",
    "\n",
    "BUT it is hard as it works quite well, mostly because of this regulirazing effect and also it is effective at controling the activations and their distributions. \n",
    "\n",
    "## Not using bias in batch norm\n",
    "\n",
    "The best thing to do is not to use bias in the weight matrices as its gradients are going to be zero. Just use the batch normalization bias. Also do not add the [hidden layer] bias during the forward pass as it is only adding up unnecessary computation while its gradient is 0. \n",
    "\n",
    "When you check the layers in ResNet50, you can see that the **bias variable is set to False** as it is positioned behind the batch normalization layer (batchNorm2d for images in this specific case).\n",
    "\n",
    "They do not need a bias there as they have a bias in the batch norm layer!\n",
    "\n",
    "Btw, this is not only practice when the following layer is BatchNorm layer but **ANY NORMALIZATION LAYER!**"
   ]
  },
  {
   "cell_type": "markdown",
   "metadata": {},
   "source": [
    "## Pytorch weights initialization\n",
    "\n",
    "They are using a uniform distribution for the weight values. They scale the values by the square root of fan-in. (k in the docs)"
   ]
  },
  {
   "cell_type": "markdown",
   "metadata": {},
   "source": [
    "# Basic idea\n",
    "\n",
    "If you want rougly Gaussian activations, take the activations, take the mean and std and center the data. This can be done as the centering operation is differentiable. \n",
    "\n",
    "We needed to put more bells and whistles as we had a question of using batch norm during inference if it is done on batches? No one like sto do stage 2, so we folded it into the batch norm layer during trainign and **try to estimate them in a RUNNING MANNER** so everything is a bit simpler. \n",
    "\n",
    "**Group normalization and layer normalization** are more common as you could shoot yourself in the leg while using batch normalization. "
   ]
  }
 ],
 "metadata": {
  "kernelspec": {
   "display_name": ".venv",
   "language": "python",
   "name": "python3"
  },
  "language_info": {
   "codemirror_mode": {
    "name": "ipython",
    "version": 3
   },
   "file_extension": ".py",
   "mimetype": "text/x-python",
   "name": "python",
   "nbconvert_exporter": "python",
   "pygments_lexer": "ipython3",
   "version": "3.10.12"
  }
 },
 "nbformat": 4,
 "nbformat_minor": 2
}
